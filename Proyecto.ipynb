{
 "cells": [
  {
   "cell_type": "markdown",
   "metadata": {},
   "source": [
    "# Hola Nikolai! <a class=\"tocSkip\"></a>\n",
    "\n",
    "Mi nombre es Oscar Flores y tengo el gusto de revisar tu proyecto. Si tienes algún comentario que quieras agregar en tus respuestas te puedes referir a mi como Oscar, no hay problema que me trates de tú.\n",
    "\n",
    "Si veo un error en la primera revisión solamente lo señalaré y dejaré que tú encuentres de qué se trata y cómo arreglarlo. Debo prepararte para que te desempeñes como especialista en Data, en un trabajo real, el responsable a cargo tuyo hará lo mismo. Si aún tienes dificultades para resolver esta tarea, te daré indicaciones más precisas en una siguiente iteración.\n",
    "\n",
    "Te dejaré mis comentarios más abajo - **por favor, no los muevas, modifiques o borres**\n",
    "\n",
    "Comenzaré mis comentarios con un resumen de los puntos que están bien, aquellos que debes corregir y aquellos que puedes mejorar. Luego deberás revisar todo el notebook para leer mis comentarios, los cuales estarán en rectángulos de color verde, amarillo o rojo como siguen:\n",
    "\n",
    "<div class=\"alert alert-block alert-success\">\n",
    "<b>Comentario de Reviewer</b> <a class=\"tocSkip\"></a>\n",
    "    \n",
    "Muy bien! Toda la respuesta fue lograda satisfactoriamente.\n",
    "</div>\n",
    "\n",
    "<div class=\"alert alert-block alert-warning\">\n",
    "<b>Comentario de Reviewer</b> <a class=\"tocSkip\"></a>\n",
    "\n",
    "Existen detalles a mejorar. Existen recomendaciones.\n",
    "</div>\n",
    "\n",
    "<div class=\"alert alert-block alert-danger\">\n",
    "\n",
    "<b>Comentario de Reviewer</b> <a class=\"tocSkip\"></a>\n",
    "\n",
    "Se necesitan correcciones en el bloque. El trabajo no puede ser aceptado con comentarios en rojo sin solucionar.\n",
    "</div>\n",
    "\n",
    "Cualquier comentario que quieras agregar entre iteraciones de revisión lo puedes hacer de la siguiente manera:\n",
    "\n",
    "<div class=\"alert alert-block alert-info\">\n",
    "<b>Respuesta estudiante.</b> <a class=\"tocSkip\"></a>\n",
    "</div>\n",
    "\n",
    "Mucho éxito en el proyecto!"
   ]
  },
  {
   "cell_type": "markdown",
   "metadata": {},
   "source": [
    "## Resumen de la revisión 1 <a class=\"tocSkip\"></a>"
   ]
  },
  {
   "cell_type": "markdown",
   "metadata": {},
   "source": [
    "<div class=\"alert alert-block alert-danger\">\n",
    "<b>Comentario de Revisor</b> <a class=\"tocSkip\"></a>\n",
    "\n",
    "Hola Nikolai. El método `root_mean_squared_error` no está disponible en la plataforma de tripleten. Revisa el código y modifícalo para poder ejecutarlo. Antes de enviar el notebook, reinicia el kernel y ejecuta todas las celdas para revisar que no hayan problemas de compilación o de librerías. \n",
    "    \n",
    "Te dejé otros comentarios para corregir el cálculo del beneficio y del boostrapping.    \n",
    "    \n",
    "Saludos    \n",
    "\n",
    "</div>"
   ]
  },
  {
   "cell_type": "markdown",
   "metadata": {},
   "source": [
    "<div class=\"alert alert-block alert-info\">\n",
    "<b>Respuesta estudiante.</b> <a class=\"tocSkip\"></a>\n",
    "Gracias!\n",
    "</div>"
   ]
  },
  {
   "cell_type": "markdown",
   "metadata": {},
   "source": [
    "## Resumen de la revisión 2 <a class=\"tocSkip\"></a>"
   ]
  },
  {
   "cell_type": "markdown",
   "metadata": {},
   "source": [
    "<div class=\"alert alert-block alert-danger\">\n",
    "<b>Comentario de Revisor v2</b> <a class=\"tocSkip\"></a>\n",
    "\n",
    "Muy bien con las correcciones Nikolai. Queda un pequeño error en el bootstrapping, te dejé indicaciones de cómo corregirlo.\n",
    "    \n",
    "Saludos    \n",
    "\n",
    "</div>"
   ]
  },
  {
   "cell_type": "markdown",
   "metadata": {},
   "source": [
    "----"
   ]
  },
  {
   "cell_type": "code",
   "execution_count": 1,
   "metadata": {},
   "outputs": [],
   "source": [
    "import pandas as pd\n",
    "import numpy as np\n",
    "from sklearn.linear_model import LinearRegression\n",
    "from sklearn.model_selection import train_test_split\n",
    "from sklearn.metrics import mean_squared_error #Cambio de root_mean_squered_error por problemas en la plataforma"
   ]
  },
  {
   "cell_type": "code",
   "execution_count": 2,
   "metadata": {},
   "outputs": [],
   "source": [
    "def load_data(file_location):\n",
    "    \"\"\"\n",
    "    Load data from a CSV file and separate it into features and target variables.\n",
    "\n",
    "    Parameters:\n",
    "    -----------\n",
    "    file_location : str\n",
    "        The path to the CSV file containing the dataset.\n",
    "\n",
    "    Returns:\n",
    "    --------\n",
    "    features : pandas.DataFrame\n",
    "        A DataFrame containing all columns except the first and the last.\n",
    "    \n",
    "    target : pandas.Series\n",
    "        A Series containing the last column of the dataset.\n",
    "\n",
    "    Notes:\n",
    "    ------\n",
    "    - The function assumes the dataset has at least two columns.\n",
    "    - The first column is ignored, and the last column is treated as the target variable.\n",
    "    - Requires pandas to be imported as `pd`.\n",
    "    \"\"\"\n",
    "    data = pd.read_csv(file_location)\n",
    "    features = data.iloc[:,1:-1]\n",
    "    target = data.iloc[:,-1]\n",
    "    return features,target"
   ]
  },
  {
   "cell_type": "code",
   "execution_count": 3,
   "metadata": {},
   "outputs": [],
   "source": [
    "def split_data(features,target,size=0.25):\n",
    "    \"\"\"\n",
    "    Split the dataset into training and validation sets.\n",
    "\n",
    "    Parameters:\n",
    "    -----------\n",
    "    features : pandas.DataFrame\n",
    "        The feature variables (independent variables).\n",
    "    \n",
    "    target : pandas.Series\n",
    "        The target variable (dependent variable).\n",
    "    \n",
    "    size : float, optional (default=0.25)\n",
    "        The proportion of the dataset to include in the validation split.\n",
    "\n",
    "    Returns:\n",
    "    --------\n",
    "    features_train : pandas.DataFrame\n",
    "        The training set features.\n",
    "    \n",
    "    features_valid : pandas.DataFrame\n",
    "        The validation set features.\n",
    "    \n",
    "    target_train : pandas.Series\n",
    "        The training set target values.\n",
    "    \n",
    "    target_valid : pandas.Series\n",
    "        The validation set target values.\n",
    "\n",
    "    Notes:\n",
    "    ------\n",
    "    - Uses `train_test_split` from `sklearn.model_selection`, so ensure it is imported.\n",
    "    - `random_state` is used for reproducibility.\n",
    "    - Default validation size is 25% of the dataset.\n",
    "    \"\"\"\n",
    "    features_train, features_valid, target_train, target_valid = train_test_split(features,target,test_size=size,random_state=42)\n",
    "    return features_train, features_valid, target_train, target_valid"
   ]
  },
  {
   "cell_type": "code",
   "execution_count": 4,
   "metadata": {},
   "outputs": [],
   "source": [
    "def modelo(features_train, features_valid, target_train, target_valid):\n",
    "    \"\"\"\n",
    "    Train a Linear Regression model and evaluate its performance.\n",
    "\n",
    "    Parameters:\n",
    "    -----------\n",
    "    features_train : pandas.DataFrame\n",
    "        The training set features.\n",
    "    \n",
    "    features_valid : pandas.DataFrame\n",
    "        The validation set features.\n",
    "    \n",
    "    target_train : pandas.Series\n",
    "        The training set target values.\n",
    "    \n",
    "    target_valid : pandas.Series\n",
    "        The validation set target values.\n",
    "\n",
    "    Returns:\n",
    "    --------\n",
    "    predictions : numpy.ndarray\n",
    "        The predicted values for the validation set.\n",
    "\n",
    "    Prints:\n",
    "    -------\n",
    "    - Mean reserve volume predicted.\n",
    "    - Root Mean Squared Error (RMSE) of the model.\n",
    "\n",
    "    Notes:\n",
    "    ------\n",
    "    - Uses `LinearRegression` from `sklearn.linear_model`, so ensure it is imported.\n",
    "    - Assumes `root_mean_squared_error` is defined elsewhere or imported.\n",
    "    \"\"\"\n",
    "    model = LinearRegression()\n",
    "    model.fit(features_train,target_train)\n",
    "    predictions = model.predict(features_valid)\n",
    "    print(f\"Mean reserve volume predicted: {predictions.mean()}\")\n",
    "    print(f\"RSME: {np.sqrt(mean_squared_error(target_valid,predictions))}\")\n",
    "    return predictions"
   ]
  },
  {
   "cell_type": "code",
   "execution_count": 5,
   "metadata": {},
   "outputs": [],
   "source": [
    "def process(file_location):\n",
    "    \"\"\"\n",
    "    Load data, split it into training and validation sets, train a model, and generate predictions.\n",
    "\n",
    "    Parameters:\n",
    "    -----------\n",
    "    file_location : str\n",
    "        The path to the CSV file containing the dataset.\n",
    "\n",
    "    Returns:\n",
    "    --------\n",
    "    predictions : numpy.ndarray\n",
    "        The predicted values for the validation set.\n",
    "\n",
    "    target_valid : pandas.Series\n",
    "        The actual target values for the validation set.\n",
    "\n",
    "    Notes:\n",
    "    ------\n",
    "    - Calls `load_data()` to load and preprocess the dataset.\n",
    "    - Uses `np.random.RandomState(42)` to ensure reproducibility.\n",
    "    - Calls `split_data()` to divide the data into training and validation sets.\n",
    "    - Calls `model()` to train a Linear Regression model and generate predictions.\n",
    "    - Assumes that `load_data`, `split_data`, and `model` are defined elsewhere.\n",
    "    - Requires `numpy` to be imported as `np`.\n",
    "    \"\"\"\n",
    "    features, target = load_data(file_location)\n",
    "    features_train, features_valid, target_train, target_valid = split_data(features,target)\n",
    "    predictions = modelo(features_train, features_valid, target_train, target_valid)\n",
    "    return predictions,target_valid"
   ]
  },
  {
   "cell_type": "markdown",
   "metadata": {},
   "source": [
    "<div class=\"alert alert-block alert-danger\">\n",
    "<b>Comentario de Revisor</b> <a class=\"tocSkip\"></a>\n",
    "\n",
    "Bien, las funciones para el modelo y la predicción se ven correctas. No compilan porque no se logra importar el método `root_mean_squared_error`\n",
    "\n",
    "</div>"
   ]
  },
  {
   "cell_type": "markdown",
   "metadata": {},
   "source": [
    "<div class=\"alert alert-block alert-info\">\n",
    "<b>Respuesta estudiante.</b> <a class=\"tocSkip\"></a>\n",
    "Cambiado a mean_squared_error y hecho el cálculo con numpy para sacarle raíz.\n",
    "</div>"
   ]
  },
  {
   "cell_type": "markdown",
   "metadata": {},
   "source": [
    "<div class=\"alert alert-block alert-success\">\n",
    "<b>Comentario de Revisor v2</b> <a class=\"tocSkip\"></a>\n",
    "\n",
    "Bien, corregido. También se puede usar el parámetro `squared=True` dentro de `mean_squared_error`\n",
    "\n",
    "</div>"
   ]
  },
  {
   "cell_type": "code",
   "execution_count": 6,
   "metadata": {},
   "outputs": [
    {
     "name": "stdout",
     "output_type": "stream",
     "text": [
      "Mean reserve volume predicted: 92.39879990657768\n",
      "RSME: 37.75660035026169\n"
     ]
    }
   ],
   "source": [
    "predictions_0,target_valid_0 = process(\"datasets/geo_data_0.csv\")"
   ]
  },
  {
   "cell_type": "code",
   "execution_count": 7,
   "metadata": {},
   "outputs": [
    {
     "name": "stdout",
     "output_type": "stream",
     "text": [
      "Mean reserve volume predicted: 68.71287803913762\n",
      "RSME: 0.8902801001028854\n"
     ]
    }
   ],
   "source": [
    "predictions_1,target_valid_1 = process(\"datasets/geo_data_1.csv\")"
   ]
  },
  {
   "cell_type": "code",
   "execution_count": 8,
   "metadata": {},
   "outputs": [
    {
     "name": "stdout",
     "output_type": "stream",
     "text": [
      "Mean reserve volume predicted: 94.77102387765939\n",
      "RSME: 40.145872311342174\n"
     ]
    }
   ],
   "source": [
    "predictions_2,target_valid_2 = process(\"datasets/geo_data_2.csv\")"
   ]
  },
  {
   "cell_type": "markdown",
   "metadata": {},
   "source": [
    "<div class=\"alert alert-block alert-success\">\n",
    "<b>Comentario de Revisor v2</b> <a class=\"tocSkip\"></a>\n",
    "\n",
    "Muy bien, bien hecho\n",
    "\n",
    "</div>"
   ]
  },
  {
   "cell_type": "code",
   "execution_count": 9,
   "metadata": {},
   "outputs": [],
   "source": [
    "investment = 100000000\n",
    "gain_per_unit = 4500\n",
    "n_oil_wells = 200"
   ]
  },
  {
   "cell_type": "code",
   "execution_count": 10,
   "metadata": {},
   "outputs": [
    {
     "name": "stdout",
     "output_type": "stream",
     "text": [
      "Average volume of oil per oil well to avoid losses: 111.11\n"
     ]
    }
   ],
   "source": [
    "print(f\"Average volume of oil per oil well to avoid losses: {investment/n_oil_wells/gain_per_unit:.2f}\")"
   ]
  },
  {
   "cell_type": "markdown",
   "metadata": {},
   "source": [
    "- La región 0 tiene en promedio 9 unidades menos de las necesarias para evitar pérdidas. Pero el error es de 37 unidades y se toman en cuenta todos los pozos y no sólo los mejores 200, por lo que hay muy alta posibilidad de que sea una buena región.\n",
    "- La región 1 tiene en promedio 42 unidades menos de las necesarias para evitar pérdidas. Aunque se tomen a los mejores 200 pozos, el error es mínimo en esta región y el déficit es bastante grande, por lo que tal vez no sea tan buena idea invertir aquí.\n",
    "- La región 2 es muy similar a la 0, con un poco más de unidades en promedio pero con un poco más de error. Ambas regiones, 0 y 2, son potencialmente buenas."
   ]
  },
  {
   "cell_type": "code",
   "execution_count": 11,
   "metadata": {},
   "outputs": [],
   "source": [
    "def calcular_ganancia(pred_valid):\n",
    "    investment = 100000000\n",
    "    gain_per_unit = 4500\n",
    "    valid_top_200 = pred_valid.sort_values(\"predictions\",ascending=False).head(200)[\"product\"]\n",
    "    total_reserves_predicted = valid_top_200.sum()\n",
    "    benefit = total_reserves_predicted*gain_per_unit - investment\n",
    "    return benefit"
   ]
  },
  {
   "cell_type": "markdown",
   "metadata": {},
   "source": [
    "<div class=\"alert alert-block alert-danger\">\n",
    "<b>Comentario de Revisor</b> <a class=\"tocSkip\"></a>\n",
    "\n",
    "Para calcular el beneficio, es necesario ordenar los pozos según el valor de predicción pero se usa el valor real para calcular el beneficio. Es decir:\n",
    "    \n",
    "- Debes tener la data de predicción y real de todos los pozos usados para validación\n",
    "- Toma los mejores 200 pozos según el valor de predicción\n",
    "- Calcula el volumen según el valor real de esos pozos\n",
    "- La ganancia es ese volumen por 4500 menos los 100 millones de inversión\n",
    "</div>"
   ]
  },
  {
   "cell_type": "markdown",
   "metadata": {},
   "source": [
    "<div class=\"alert alert-block alert-info\">\n",
    "<b>Respuesta estudiante.</b> <a class=\"tocSkip\"></a>\n",
    "Creo que ya quedó.\n",
    "</div>"
   ]
  },
  {
   "cell_type": "code",
   "execution_count": 12,
   "metadata": {},
   "outputs": [
    {
     "name": "stdout",
     "output_type": "stream",
     "text": [
      "Benefit: 33591411.14\n"
     ]
    }
   ],
   "source": [
    "benefit_0 = calcular_ganancia(pd.concat((pd.Series(predictions_0,index=target_valid_0.index,name=\"predictions\"),target_valid_0),axis=1))\n",
    "print(f\"Benefit: {benefit_0:.2f}\")"
   ]
  },
  {
   "cell_type": "code",
   "execution_count": 13,
   "metadata": {},
   "outputs": [
    {
     "name": "stdout",
     "output_type": "stream",
     "text": [
      "Benefit: 24150866.97\n"
     ]
    }
   ],
   "source": [
    "benefit_1 = calcular_ganancia(pd.concat((pd.Series(predictions_1,index=target_valid_1.index,name=\"predictions\"),target_valid_1),axis=1))\n",
    "print(f\"Benefit: {benefit_1:.2f}\")"
   ]
  },
  {
   "cell_type": "code",
   "execution_count": 14,
   "metadata": {},
   "outputs": [
    {
     "name": "stdout",
     "output_type": "stream",
     "text": [
      "Benefit: 25985717.59\n"
     ]
    }
   ],
   "source": [
    "benefit_2 = calcular_ganancia(pd.concat((pd.Series(predictions_2,index=target_valid_2.index,name=\"predictions\"),target_valid_2),axis=1))\n",
    "print(f\"Benefit: {benefit_2:.2f}\")"
   ]
  },
  {
   "cell_type": "markdown",
   "metadata": {},
   "source": [
    "<div class=\"alert alert-block alert-success\">\n",
    "<b>Comentario de Revisor v2</b> <a class=\"tocSkip\"></a>\n",
    "\n",
    "Buen trabajo, los resultados son correctos\n",
    "\n",
    "</div>"
   ]
  },
  {
   "cell_type": "markdown",
   "metadata": {},
   "source": [
    "En las 3 regiones se obtiene una buena cantidad de beneficio. Pero se confirman mis sospechas de que la región 0 es potencialmente mucho mejor que la región 1. También vemos que la región 2 se parece más a la región 1 que a la 0."
   ]
  },
  {
   "cell_type": "code",
   "execution_count": 20,
   "metadata": {},
   "outputs": [],
   "source": [
    "def calculo_riesgos_y_ganancias(predictions,target_valid):\n",
    "    state = np.random.RandomState(42)\n",
    "    pred_valid = pd.concat((pd.Series(predictions,index=target_valid.index,name=\"predictions\"),target_valid),axis=1)\n",
    "    means = []\n",
    "    for i in range(1000):\n",
    "        sample = pred_valid.sample(n=500,replace=True,random_state=state)\n",
    "        benefit = calcular_ganancia(sample)\n",
    "        means.append(benefit)\n",
    "    means = pd.Series(means)\n",
    "    mean = means.mean()\n",
    "    lower = means.quantile(q=0.025) \n",
    "    upper = means.quantile(q=0.975)\n",
    "    benefit_interval = np.array((lower,upper)) #Intervalo de confianza del beneficio\n",
    "    n_losses = (means<=0).sum() #Número de casos en donde el promedio de volumen es menor al requerido para evitar perdidas\n",
    "    loss_probability = n_losses/1000\n",
    "    print(f\"Beneficio promedio: {mean}\\nIntervalo de confianza del 95%: {benefit_interval}\\nProbabilidad de pérdida: {loss_probability*100}%\")"
   ]
  },
  {
   "cell_type": "markdown",
   "metadata": {},
   "source": [
    "<div class=\"alert alert-block alert-danger\">\n",
    "<b>Comentario de Revisor</b> <a class=\"tocSkip\"></a>\n",
    "\n",
    "El bootstrapping es incorrecto, se debe tomar una muestra de la data de validación y además se requieren los valores reales y de predicción. Te dejo indicaciones de cómo implementarlo:\n",
    "    \n",
    " - Iterar 1000 veces\n",
    " - En cada iteración, tomar los pozos de validación (25000 pozos) y extraer una muestra aleatoria con reemplazo de 500\n",
    " - De esos 500, aplicar el método de cálculo de ganancia (top 200 por predicción, usar valor real)\n",
    " - Guarda el beneficio\n",
    " - Con los 1000 beneficios obtenidos, se calculan las métricas.\n",
    "    \n",
    "La forma de cálculo de las métricas me parece correcta, una vez modificado el procedimiento anterior se podrá revisar mejor.\n",
    "</div>  \n"
   ]
  },
  {
   "cell_type": "markdown",
   "metadata": {},
   "source": [
    "<div class=\"alert alert-block alert-info\">\n",
    "<b>Respuesta estudiante.</b> <a class=\"tocSkip\"></a>\n",
    "Mucha diferencia. Creo que ahora entiendo un poco más lo que estoy haciendo. Muchas gracias!\n",
    "</div>"
   ]
  },
  {
   "cell_type": "markdown",
   "metadata": {},
   "source": [
    "<div class=\"alert alert-block alert-danger\">\n",
    "<b>Comentario de Revisor v2</b> <a class=\"tocSkip\"></a>\n",
    "\n",
    "Ok, bien con las correcciones que realizaste, pero hay un detalle importante. La muestra a extraer es de los valores ya predecidos, no de los features completos para luego hacer una predicción. El problema que esto causa es que al pasarle los valores a la función de calcular_ganancia, `predictions` tiene 500 valores y `target_valid` tiene 25000, luego dentro de la función los índices no son los mismos.\n",
    "    \n",
    "Te recomiendo que le pases a ala función de bootstrapping las predicciones y valores reales y los unas antes de hacer el sample. De ese modo, al hacer sample, obtendrás una muestra de pozos con sus valores de predicción y sus valores reales al mismo tiempo.\n",
    "\n",
    "</div>"
   ]
  },
  {
   "cell_type": "markdown",
   "metadata": {},
   "source": [
    "<div class=\"alert alert-block alert-info\">\n",
    "<b>Respuesta estudiante.</b> <a class=\"tocSkip\"></a>\n",
    "Es verdad. También modifiqué la función anterior para que funcione con un dataframe en donde tenga las 2 columnas ya juntas. No puedo creer que no vi ese error. Creo que ahora sí ya lo corregí. Ahora la última parte cobra mucho más sentido. Muchas gracias Oscar!\n",
    "</div>"
   ]
  },
  {
   "cell_type": "code",
   "execution_count": 21,
   "metadata": {},
   "outputs": [
    {
     "name": "stdout",
     "output_type": "stream",
     "text": [
      "Beneficio promedio: 3995754.780542297\n",
      "Intervalo de confianza del 95%: [-1104678.95331971  8974603.27717879]\n",
      "Probabilidad de pérdida: 6.0%\n"
     ]
    }
   ],
   "source": [
    "calculo_riesgos_y_ganancias(predictions_0,target_valid_0)"
   ]
  },
  {
   "cell_type": "code",
   "execution_count": 22,
   "metadata": {},
   "outputs": [
    {
     "name": "stdout",
     "output_type": "stream",
     "text": [
      "Beneficio promedio: 4520488.909064583\n",
      "Intervalo de confianza del 95%: [ 616844.79654227 8453401.77507385]\n",
      "Probabilidad de pérdida: 1.5%\n"
     ]
    }
   ],
   "source": [
    "calculo_riesgos_y_ganancias(predictions_1,target_valid_1)"
   ]
  },
  {
   "cell_type": "code",
   "execution_count": 23,
   "metadata": {},
   "outputs": [
    {
     "name": "stdout",
     "output_type": "stream",
     "text": [
      "Beneficio promedio: 3750099.0291532897\n",
      "Intervalo de confianza del 95%: [-1447667.27304893  8883904.03534222]\n",
      "Probabilidad de pérdida: 8.0%\n"
     ]
    }
   ],
   "source": [
    "calculo_riesgos_y_ganancias(predictions_2,target_valid_2)"
   ]
  },
  {
   "cell_type": "markdown",
   "metadata": {},
   "source": [
    "Oh sorpresa! La región (1) que había descartado es la que menor riezgo de pérdida y mayor beneficio promedio tiene. Se ve claramente como la mejor opción.\n",
    "Entre las razones por lo cual pudo haber tenido este resultado, pienso que es posible que la región 1 tal vez tenga menos pozos extremadamente buenos, pero la calidad de pozos en promedio es mucho mejor que de las otras regiones."
   ]
  }
 ],
 "metadata": {
  "ExecuteTimeLog": [
   {
    "duration": 1796,
    "start_time": "2025-04-22T11:32:06.415Z"
   },
   {
    "duration": 0,
    "start_time": "2025-04-22T11:32:08.214Z"
   },
   {
    "duration": 0,
    "start_time": "2025-04-22T11:32:08.215Z"
   },
   {
    "duration": 0,
    "start_time": "2025-04-22T11:32:08.216Z"
   },
   {
    "duration": 0,
    "start_time": "2025-04-22T11:32:08.217Z"
   },
   {
    "duration": 0,
    "start_time": "2025-04-22T11:32:08.218Z"
   },
   {
    "duration": 0,
    "start_time": "2025-04-22T11:32:08.219Z"
   },
   {
    "duration": 0,
    "start_time": "2025-04-22T11:32:08.220Z"
   },
   {
    "duration": 0,
    "start_time": "2025-04-22T11:32:08.221Z"
   },
   {
    "duration": 0,
    "start_time": "2025-04-22T11:32:08.222Z"
   },
   {
    "duration": 0,
    "start_time": "2025-04-22T11:32:08.223Z"
   },
   {
    "duration": 0,
    "start_time": "2025-04-22T11:32:08.224Z"
   },
   {
    "duration": 0,
    "start_time": "2025-04-22T11:32:08.225Z"
   },
   {
    "duration": 0,
    "start_time": "2025-04-22T11:32:08.226Z"
   },
   {
    "duration": 0,
    "start_time": "2025-04-22T11:32:08.227Z"
   },
   {
    "duration": 0,
    "start_time": "2025-04-22T11:32:08.228Z"
   },
   {
    "duration": 0,
    "start_time": "2025-04-22T11:32:08.229Z"
   },
   {
    "duration": 0,
    "start_time": "2025-04-22T11:32:08.230Z"
   },
   {
    "duration": 3,
    "start_time": "2025-04-22T11:32:37.190Z"
   },
   {
    "duration": 3,
    "start_time": "2025-04-22T11:32:37.397Z"
   },
   {
    "duration": 4,
    "start_time": "2025-04-22T11:32:37.581Z"
   },
   {
    "duration": 3,
    "start_time": "2025-04-22T11:32:37.775Z"
   },
   {
    "duration": 812,
    "start_time": "2025-04-22T11:32:38.013Z"
   },
   {
    "duration": 0,
    "start_time": "2025-04-22T11:32:38.827Z"
   },
   {
    "duration": 116,
    "start_time": "2025-04-22T11:32:39.023Z"
   },
   {
    "duration": 8863,
    "start_time": "2025-04-22T12:19:00.547Z"
   },
   {
    "duration": 981,
    "start_time": "2025-04-22T12:19:28.358Z"
   },
   {
    "duration": 0,
    "start_time": "2025-04-22T12:19:29.342Z"
   },
   {
    "duration": 0,
    "start_time": "2025-04-22T12:19:29.343Z"
   },
   {
    "duration": 0,
    "start_time": "2025-04-22T12:19:29.345Z"
   },
   {
    "duration": 0,
    "start_time": "2025-04-22T12:19:29.346Z"
   },
   {
    "duration": 0,
    "start_time": "2025-04-22T12:19:29.347Z"
   },
   {
    "duration": 0,
    "start_time": "2025-04-22T12:19:29.349Z"
   },
   {
    "duration": 0,
    "start_time": "2025-04-22T12:19:29.350Z"
   },
   {
    "duration": 0,
    "start_time": "2025-04-22T12:19:29.351Z"
   },
   {
    "duration": 0,
    "start_time": "2025-04-22T12:19:29.353Z"
   },
   {
    "duration": 0,
    "start_time": "2025-04-22T12:19:29.354Z"
   },
   {
    "duration": 0,
    "start_time": "2025-04-22T12:19:29.356Z"
   },
   {
    "duration": 0,
    "start_time": "2025-04-22T12:19:29.358Z"
   },
   {
    "duration": 0,
    "start_time": "2025-04-22T12:19:29.359Z"
   },
   {
    "duration": 0,
    "start_time": "2025-04-22T12:19:29.360Z"
   },
   {
    "duration": 0,
    "start_time": "2025-04-22T12:19:29.362Z"
   },
   {
    "duration": 0,
    "start_time": "2025-04-22T12:19:29.363Z"
   },
   {
    "duration": 0,
    "start_time": "2025-04-22T12:19:29.364Z"
   },
   {
    "duration": 1486,
    "start_time": "2025-04-22T12:19:39.547Z"
   },
   {
    "duration": 16,
    "start_time": "2025-04-22T12:19:41.955Z"
   },
   {
    "duration": 1319,
    "start_time": "2025-04-22T12:20:09.971Z"
   },
   {
    "duration": 1555,
    "start_time": "2025-04-22T12:20:15.955Z"
   },
   {
    "duration": 16,
    "start_time": "2025-04-22T12:20:40.983Z"
   },
   {
    "duration": 1480,
    "start_time": "2025-04-22T12:20:42.587Z"
   },
   {
    "duration": 934,
    "start_time": "2025-04-22T12:20:59.357Z"
   },
   {
    "duration": 1524,
    "start_time": "2025-04-22T12:22:12.495Z"
   },
   {
    "duration": 978,
    "start_time": "2025-04-22T12:22:33.648Z"
   },
   {
    "duration": 738,
    "start_time": "2025-04-22T12:22:54.980Z"
   },
   {
    "duration": 3,
    "start_time": "2025-04-22T12:22:55.720Z"
   },
   {
    "duration": 4,
    "start_time": "2025-04-22T12:22:55.725Z"
   },
   {
    "duration": 3,
    "start_time": "2025-04-22T12:22:55.732Z"
   },
   {
    "duration": 4,
    "start_time": "2025-04-22T12:22:55.737Z"
   },
   {
    "duration": 461,
    "start_time": "2025-04-22T12:22:55.743Z"
   },
   {
    "duration": 0,
    "start_time": "2025-04-22T12:22:56.209Z"
   },
   {
    "duration": 0,
    "start_time": "2025-04-22T12:22:56.210Z"
   },
   {
    "duration": 0,
    "start_time": "2025-04-22T12:22:56.212Z"
   },
   {
    "duration": 0,
    "start_time": "2025-04-22T12:22:56.213Z"
   },
   {
    "duration": 0,
    "start_time": "2025-04-22T12:22:56.214Z"
   },
   {
    "duration": 0,
    "start_time": "2025-04-22T12:22:56.216Z"
   },
   {
    "duration": 0,
    "start_time": "2025-04-22T12:22:56.217Z"
   },
   {
    "duration": 0,
    "start_time": "2025-04-22T12:22:56.218Z"
   },
   {
    "duration": 0,
    "start_time": "2025-04-22T12:22:56.219Z"
   },
   {
    "duration": 0,
    "start_time": "2025-04-22T12:22:56.220Z"
   },
   {
    "duration": 0,
    "start_time": "2025-04-22T12:22:56.222Z"
   },
   {
    "duration": 0,
    "start_time": "2025-04-22T12:22:56.224Z"
   },
   {
    "duration": 792,
    "start_time": "2025-04-23T16:15:29.683Z"
   },
   {
    "duration": 4,
    "start_time": "2025-04-23T16:15:30.477Z"
   },
   {
    "duration": 4,
    "start_time": "2025-04-23T16:15:30.483Z"
   },
   {
    "duration": 4,
    "start_time": "2025-04-23T16:15:30.489Z"
   },
   {
    "duration": 4,
    "start_time": "2025-04-23T16:15:30.495Z"
   },
   {
    "duration": 586,
    "start_time": "2025-04-23T16:15:30.500Z"
   },
   {
    "duration": 0,
    "start_time": "2025-04-23T16:15:31.088Z"
   },
   {
    "duration": 0,
    "start_time": "2025-04-23T16:15:31.089Z"
   },
   {
    "duration": 0,
    "start_time": "2025-04-23T16:15:31.090Z"
   },
   {
    "duration": 0,
    "start_time": "2025-04-23T16:15:31.092Z"
   },
   {
    "duration": 0,
    "start_time": "2025-04-23T16:15:31.093Z"
   },
   {
    "duration": 0,
    "start_time": "2025-04-23T16:15:31.096Z"
   },
   {
    "duration": 0,
    "start_time": "2025-04-23T16:15:31.097Z"
   },
   {
    "duration": 0,
    "start_time": "2025-04-23T16:15:31.099Z"
   },
   {
    "duration": 0,
    "start_time": "2025-04-23T16:15:31.100Z"
   },
   {
    "duration": 0,
    "start_time": "2025-04-23T16:15:31.102Z"
   },
   {
    "duration": 0,
    "start_time": "2025-04-23T16:15:31.103Z"
   },
   {
    "duration": 0,
    "start_time": "2025-04-23T16:15:31.104Z"
   },
   {
    "duration": 789,
    "start_time": "2025-04-23T16:16:07.468Z"
   },
   {
    "duration": 3,
    "start_time": "2025-04-23T16:16:08.259Z"
   },
   {
    "duration": 5,
    "start_time": "2025-04-23T16:16:08.263Z"
   },
   {
    "duration": 4,
    "start_time": "2025-04-23T16:16:08.269Z"
   },
   {
    "duration": 4,
    "start_time": "2025-04-23T16:16:08.275Z"
   },
   {
    "duration": 128,
    "start_time": "2025-04-23T16:16:08.281Z"
   },
   {
    "duration": 173,
    "start_time": "2025-04-23T16:16:08.425Z"
   },
   {
    "duration": 193,
    "start_time": "2025-04-23T16:16:08.600Z"
   },
   {
    "duration": 30,
    "start_time": "2025-04-23T16:16:08.795Z"
   },
   {
    "duration": 6,
    "start_time": "2025-04-23T16:16:08.826Z"
   },
   {
    "duration": 4,
    "start_time": "2025-04-23T16:16:08.836Z"
   },
   {
    "duration": 82,
    "start_time": "2025-04-23T16:16:08.842Z"
   },
   {
    "duration": 5,
    "start_time": "2025-04-23T16:16:08.926Z"
   },
   {
    "duration": 6,
    "start_time": "2025-04-23T16:16:08.935Z"
   },
   {
    "duration": 4,
    "start_time": "2025-04-23T16:16:08.942Z"
   },
   {
    "duration": 1255,
    "start_time": "2025-04-23T16:16:08.948Z"
   },
   {
    "duration": 1220,
    "start_time": "2025-04-23T16:16:10.204Z"
   },
   {
    "duration": 1200,
    "start_time": "2025-04-23T16:16:11.426Z"
   },
   {
    "duration": 7,
    "start_time": "2025-04-23T16:40:17.427Z"
   }
  ],
  "kernelspec": {
   "display_name": "Python 3",
   "language": "python",
   "name": "python3"
  },
  "language_info": {
   "codemirror_mode": {
    "name": "ipython",
    "version": 3
   },
   "file_extension": ".py",
   "mimetype": "text/x-python",
   "name": "python",
   "nbconvert_exporter": "python",
   "pygments_lexer": "ipython3",
   "version": "3.13.1"
  },
  "toc": {
   "base_numbering": 1,
   "nav_menu": {},
   "number_sections": true,
   "sideBar": true,
   "skip_h1_title": true,
   "title_cell": "Table of Contents",
   "title_sidebar": "Contents",
   "toc_cell": false,
   "toc_position": {},
   "toc_section_display": true,
   "toc_window_display": false
  }
 },
 "nbformat": 4,
 "nbformat_minor": 2
}
